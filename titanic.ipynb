{
 "cells": [
  {
   "cell_type": "code",
   "execution_count": 1,
   "metadata": {},
   "outputs": [
    {
     "data": {
      "text/html": [
       "<img src=\"https://media.istockphoto.com/id/167411383/photo/painting-of-steamer-ship-in-ocean-waters.jpg?s=612x612&w=0&k=20&c=9q2nGwWvn_ZXpDNptItNiJIDG5ofMYaqGkK-OY8xsUQ=\"/>"
      ],
      "text/plain": [
       "<IPython.core.display.Image object>"
      ]
     },
     "execution_count": 1,
     "metadata": {},
     "output_type": "execute_result"
    }
   ],
   "source": [
    "from IPython.display import Image\n",
    "Image(url= \"https://media.istockphoto.com/id/167411383/photo/painting-of-steamer-ship-in-ocean-waters.jpg?s=612x612&w=0&k=20&c=9q2nGwWvn_ZXpDNptItNiJIDG5ofMYaqGkK-OY8xsUQ=\")"
   ]
  },
  {
   "cell_type": "code",
   "execution_count": 2,
   "metadata": {},
   "outputs": [
    {
     "data": {
      "text/html": [
       "<img src=\"https://static1.squarespace.com/static/5006453fe4b09ef2252ba068/t/5090b249e4b047ba54dfd258/1351660113175/TItanic-Survival-Infographic.jpg?format=1500w\"/>"
      ],
      "text/plain": [
       "<IPython.core.display.Image object>"
      ]
     },
     "execution_count": 2,
     "metadata": {},
     "output_type": "execute_result"
    }
   ],
   "source": [
    "Image(url= \"https://static1.squarespace.com/static/5006453fe4b09ef2252ba068/t/5090b249e4b047ba54dfd258/1351660113175/TItanic-Survival-Infographic.jpg?format=1500w\")"
   ]
  },
  {
   "cell_type": "markdown",
   "metadata": {},
   "source": [
    "<div style=\"background-color:#e6f7ff; padding:10px; border-radius:5px; margin-bottom:10px;\">\n",
    "    <h2 style=\"color:#004d99; margin-bottom: 10px;\">Predict survival on the Titanic</h2>\n",
    "    <ul style=\"list-style-type: none; padding-left: 0;\">\n",
    "        <li style=\"margin-bottom: 5px;\"><h3 style=\"color:#0066cc; margin-top: 0;\">&bull; Defining the problem statement</h3></li>\n",
    "        <li style=\"margin-bottom: 5px;\"><h3 style=\"color:#0066cc; margin-top: 0;\">&bull; Collecting the data</h3></li>\n",
    "        <li style=\"margin-bottom: 5px;\"><h3 style=\"color:#0066cc; margin-top: 0;\">&bull; Exploratory data analysis</h3></li>\n",
    "        <li style=\"margin-bottom: 5px;\"><h3 style=\"color:#0066cc; margin-top: 0;\">&bull; Feature engineering</h3></li>\n",
    "        <li style=\"margin-bottom: 5px;\"><h3 style=\"color:#0066cc; margin-top: 0;\">&bull; Modelling</h3></li>\n",
    "        <li style=\"margin-bottom: 5px;\"><h3 style=\"color:#0066cc; margin-top: 0;\">&bull; Testing</h3></li>\n",
    "    </ul>\n",
    "</div>\n"
   ]
  },
  {
   "cell_type": "markdown",
   "metadata": {},
   "source": [
    "<div style=\"background-color:#e6f7ff; padding:10px; border-radius:5px; margin-bottom:10px;\">\n",
    "    <h2 style=\"color:#004d99;\">Problem Definition</h2>\n",
    "    <p style=\"color:#0066cc; margin-bottom: 10px;\">The problem is to predict whether a passenger survived the Titanic disaster based on various features such as: Passenger class, Age, Sex, Number of siblings/spouses aboard (SibSp), Number of parents/children aboard (Parch), Fare paid, Cabin, and Port of embarkation.</p>\n",
    "    <p style=\"color:#0066cc;\">This is a classic binary classification problem, where the target variable (Survived) has two possible outcomes:</p>\n",
    "    <ul style=\"list-style-type: none; padding-left: 0;\">\n",
    "        <li style=\"margin-bottom: 5px;\"><span style=\"color:#0066cc;\">0: Did not survive</span></li>\n",
    "        <li style=\"margin-bottom: 5px;\"><span style=\"color:#0066cc;\">1: Survived</span></li>\n",
    "    </ul>\n",
    "</div>\n"
   ]
  },
  {
   "cell_type": "markdown",
   "metadata": {},
   "source": [
    "#### Here's the data dictionary for the Titanic dataset\n",
    "\n",
    "| Variable   | Description                                                                                        |\n",
    "|------------|----------------------------------------------------------------------------------------------------|\n",
    "| PassengerId| Each passenger is assigned a unique identifier.                                                    |\n",
    "| Survived   | Indicates whether the passenger survived the Titanic disaster or not.                                |\n",
    "|            | - 0: No (did not survive)                                                                           |\n",
    "|            | - 1: Yes (survived)                                                                                  |\n",
    "| Pclass     | Represents the ticket class, reflecting the socio-economic status of the passenger.                 |\n",
    "|            | - 1: 1st class                                                                                       |\n",
    "|            | - 2: 2nd class                                                                                       |\n",
    "|            | - 3: 3rd class                                                                                       |\n",
    "| Name       | The name of the passenger.                                                                          |\n",
    "| Sex        | Indicates the gender of the passenger, categorized as male or female.                                |\n",
    "| Age        | The age of the passenger. Some entries may be missing, indicated by NaN.                             |\n",
    "| SibSp      | The number of siblings or spouses the passenger had aboard the Titanic.                              |\n",
    "| Parch      | The number of parents or children the passenger had aboard the Titanic.                              |\n",
    "| Ticket     | The ticket number.                                                                                   |\n",
    "| Fare       | The fare paid by the passenger for the ticket.                                                       |\n",
    "| Cabin      | The cabin number where the passenger stayed. Some entries may be missing.                             |\n",
    "| Embarked   | Indicates the port of embarkation for the passenger.                                                  |\n",
    "|            | - C: Cherbourg                                                                                       |\n",
    "|            | - Q: Queenstown                                                                                      |\n",
    "|            | - S: Southampton                                                                                    |\n"
   ]
  },
  {
   "cell_type": "code",
   "execution_count": 3,
   "metadata": {},
   "outputs": [],
   "source": [
    "import os\n",
    "import pickle\n",
    "import pandas as pd\n",
    "import numpy as np\n",
    "from sklearn.model_selection import train_test_split\n",
    "from sklearn.linear_model import LogisticRegression\n",
    "from sklearn.svm import SVC\n",
    "from sklearn.neighbors import KNeighborsClassifier\n",
    "from sklearn.naive_bayes import GaussianNB\n",
    "from sklearn.tree import DecisionTreeClassifier\n",
    "from sklearn.metrics import accuracy_score, precision_score, recall_score, confusion_matrix, classification_report\n",
    "import matplotlib.pyplot as plt\n",
    "from tabulate import tabulate\n",
    "import seaborn as sns"
   ]
  },
  {
   "cell_type": "markdown",
   "metadata": {},
   "source": [
    "Loading train, test dataset using Pandas"
   ]
  },
  {
   "cell_type": "code",
   "execution_count": 4,
   "metadata": {},
   "outputs": [],
   "source": [
    "train_done = pd.read_csv('train.csv')\n",
    "test_done = pd.read_csv('test.csv')"
   ]
  },
  {
   "cell_type": "code",
   "execution_count": 5,
   "metadata": {},
   "outputs": [
    {
     "name": "stdout",
     "output_type": "stream",
     "text": [
      "Train features shape :  (891, 12)\n",
      "Test features shape  :  (418, 11)\n"
     ]
    }
   ],
   "source": [
    "print(\"Train features shape : \", train_done.shape)\n",
    "print(\"Test features shape  : \", test_done.shape)"
   ]
  },
  {
   "cell_type": "code",
   "execution_count": 6,
   "metadata": {},
   "outputs": [
    {
     "data": {
      "text/html": [
       "<div>\n",
       "<style scoped>\n",
       "    .dataframe tbody tr th:only-of-type {\n",
       "        vertical-align: middle;\n",
       "    }\n",
       "\n",
       "    .dataframe tbody tr th {\n",
       "        vertical-align: top;\n",
       "    }\n",
       "\n",
       "    .dataframe thead th {\n",
       "        text-align: right;\n",
       "    }\n",
       "</style>\n",
       "<table border=\"1\" class=\"dataframe\">\n",
       "  <thead>\n",
       "    <tr style=\"text-align: right;\">\n",
       "      <th></th>\n",
       "      <th>PassengerId</th>\n",
       "      <th>Survived</th>\n",
       "      <th>Pclass</th>\n",
       "      <th>Name</th>\n",
       "      <th>Sex</th>\n",
       "      <th>Age</th>\n",
       "      <th>SibSp</th>\n",
       "      <th>Parch</th>\n",
       "      <th>Ticket</th>\n",
       "      <th>Fare</th>\n",
       "      <th>Cabin</th>\n",
       "      <th>Embarked</th>\n",
       "    </tr>\n",
       "  </thead>\n",
       "  <tbody>\n",
       "    <tr>\n",
       "      <th>0</th>\n",
       "      <td>1</td>\n",
       "      <td>0</td>\n",
       "      <td>3</td>\n",
       "      <td>Braund, Mr. Owen Harris</td>\n",
       "      <td>male</td>\n",
       "      <td>22.0</td>\n",
       "      <td>1</td>\n",
       "      <td>0</td>\n",
       "      <td>A/5 21171</td>\n",
       "      <td>7.2500</td>\n",
       "      <td>NaN</td>\n",
       "      <td>S</td>\n",
       "    </tr>\n",
       "    <tr>\n",
       "      <th>1</th>\n",
       "      <td>2</td>\n",
       "      <td>1</td>\n",
       "      <td>1</td>\n",
       "      <td>Cumings, Mrs. John Bradley (Florence Briggs Th...</td>\n",
       "      <td>female</td>\n",
       "      <td>38.0</td>\n",
       "      <td>1</td>\n",
       "      <td>0</td>\n",
       "      <td>PC 17599</td>\n",
       "      <td>71.2833</td>\n",
       "      <td>C85</td>\n",
       "      <td>C</td>\n",
       "    </tr>\n",
       "    <tr>\n",
       "      <th>2</th>\n",
       "      <td>3</td>\n",
       "      <td>1</td>\n",
       "      <td>3</td>\n",
       "      <td>Heikkinen, Miss. Laina</td>\n",
       "      <td>female</td>\n",
       "      <td>26.0</td>\n",
       "      <td>0</td>\n",
       "      <td>0</td>\n",
       "      <td>STON/O2. 3101282</td>\n",
       "      <td>7.9250</td>\n",
       "      <td>NaN</td>\n",
       "      <td>S</td>\n",
       "    </tr>\n",
       "    <tr>\n",
       "      <th>3</th>\n",
       "      <td>4</td>\n",
       "      <td>1</td>\n",
       "      <td>1</td>\n",
       "      <td>Futrelle, Mrs. Jacques Heath (Lily May Peel)</td>\n",
       "      <td>female</td>\n",
       "      <td>35.0</td>\n",
       "      <td>1</td>\n",
       "      <td>0</td>\n",
       "      <td>113803</td>\n",
       "      <td>53.1000</td>\n",
       "      <td>C123</td>\n",
       "      <td>S</td>\n",
       "    </tr>\n",
       "    <tr>\n",
       "      <th>4</th>\n",
       "      <td>5</td>\n",
       "      <td>0</td>\n",
       "      <td>3</td>\n",
       "      <td>Allen, Mr. William Henry</td>\n",
       "      <td>male</td>\n",
       "      <td>35.0</td>\n",
       "      <td>0</td>\n",
       "      <td>0</td>\n",
       "      <td>373450</td>\n",
       "      <td>8.0500</td>\n",
       "      <td>NaN</td>\n",
       "      <td>S</td>\n",
       "    </tr>\n",
       "  </tbody>\n",
       "</table>\n",
       "</div>"
      ],
      "text/plain": [
       "   PassengerId  Survived  Pclass  \\\n",
       "0            1         0       3   \n",
       "1            2         1       1   \n",
       "2            3         1       3   \n",
       "3            4         1       1   \n",
       "4            5         0       3   \n",
       "\n",
       "                                                Name     Sex   Age  SibSp  \\\n",
       "0                            Braund, Mr. Owen Harris    male  22.0      1   \n",
       "1  Cumings, Mrs. John Bradley (Florence Briggs Th...  female  38.0      1   \n",
       "2                             Heikkinen, Miss. Laina  female  26.0      0   \n",
       "3       Futrelle, Mrs. Jacques Heath (Lily May Peel)  female  35.0      1   \n",
       "4                           Allen, Mr. William Henry    male  35.0      0   \n",
       "\n",
       "   Parch            Ticket     Fare Cabin Embarked  \n",
       "0      0         A/5 21171   7.2500   NaN        S  \n",
       "1      0          PC 17599  71.2833   C85        C  \n",
       "2      0  STON/O2. 3101282   7.9250   NaN        S  \n",
       "3      0            113803  53.1000  C123        S  \n",
       "4      0            373450   8.0500   NaN        S  "
      ]
     },
     "execution_count": 6,
     "metadata": {},
     "output_type": "execute_result"
    }
   ],
   "source": [
    "train_done.head(5)"
   ]
  },
  {
   "cell_type": "code",
   "execution_count": 7,
   "metadata": {},
   "outputs": [
    {
     "name": "stdout",
     "output_type": "stream",
     "text": [
      "<class 'pandas.core.frame.DataFrame'>\n",
      "RangeIndex: 891 entries, 0 to 890\n",
      "Data columns (total 12 columns):\n",
      " #   Column       Non-Null Count  Dtype  \n",
      "---  ------       --------------  -----  \n",
      " 0   PassengerId  891 non-null    int64  \n",
      " 1   Survived     891 non-null    int64  \n",
      " 2   Pclass       891 non-null    int64  \n",
      " 3   Name         891 non-null    object \n",
      " 4   Sex          891 non-null    object \n",
      " 5   Age          714 non-null    float64\n",
      " 6   SibSp        891 non-null    int64  \n",
      " 7   Parch        891 non-null    int64  \n",
      " 8   Ticket       891 non-null    object \n",
      " 9   Fare         891 non-null    float64\n",
      " 10  Cabin        204 non-null    object \n",
      " 11  Embarked     889 non-null    object \n",
      "dtypes: float64(2), int64(5), object(5)\n",
      "memory usage: 83.7+ KB\n",
      "None\n"
     ]
    },
    {
     "data": {
      "text/html": [
       "<div>\n",
       "<style scoped>\n",
       "    .dataframe tbody tr th:only-of-type {\n",
       "        vertical-align: middle;\n",
       "    }\n",
       "\n",
       "    .dataframe tbody tr th {\n",
       "        vertical-align: top;\n",
       "    }\n",
       "\n",
       "    .dataframe thead th {\n",
       "        text-align: right;\n",
       "    }\n",
       "</style>\n",
       "<table border=\"1\" class=\"dataframe\">\n",
       "  <thead>\n",
       "    <tr style=\"text-align: right;\">\n",
       "      <th></th>\n",
       "      <th>PassengerId</th>\n",
       "      <th>Survived</th>\n",
       "      <th>Pclass</th>\n",
       "      <th>Age</th>\n",
       "      <th>SibSp</th>\n",
       "      <th>Parch</th>\n",
       "      <th>Fare</th>\n",
       "    </tr>\n",
       "  </thead>\n",
       "  <tbody>\n",
       "    <tr>\n",
       "      <th>count</th>\n",
       "      <td>891.000000</td>\n",
       "      <td>891.000000</td>\n",
       "      <td>891.000000</td>\n",
       "      <td>714.000000</td>\n",
       "      <td>891.000000</td>\n",
       "      <td>891.000000</td>\n",
       "      <td>891.000000</td>\n",
       "    </tr>\n",
       "    <tr>\n",
       "      <th>mean</th>\n",
       "      <td>446.000000</td>\n",
       "      <td>0.383838</td>\n",
       "      <td>2.308642</td>\n",
       "      <td>29.699118</td>\n",
       "      <td>0.523008</td>\n",
       "      <td>0.381594</td>\n",
       "      <td>32.204208</td>\n",
       "    </tr>\n",
       "    <tr>\n",
       "      <th>std</th>\n",
       "      <td>257.353842</td>\n",
       "      <td>0.486592</td>\n",
       "      <td>0.836071</td>\n",
       "      <td>14.526497</td>\n",
       "      <td>1.102743</td>\n",
       "      <td>0.806057</td>\n",
       "      <td>49.693429</td>\n",
       "    </tr>\n",
       "    <tr>\n",
       "      <th>min</th>\n",
       "      <td>1.000000</td>\n",
       "      <td>0.000000</td>\n",
       "      <td>1.000000</td>\n",
       "      <td>0.420000</td>\n",
       "      <td>0.000000</td>\n",
       "      <td>0.000000</td>\n",
       "      <td>0.000000</td>\n",
       "    </tr>\n",
       "    <tr>\n",
       "      <th>25%</th>\n",
       "      <td>223.500000</td>\n",
       "      <td>0.000000</td>\n",
       "      <td>2.000000</td>\n",
       "      <td>20.125000</td>\n",
       "      <td>0.000000</td>\n",
       "      <td>0.000000</td>\n",
       "      <td>7.910400</td>\n",
       "    </tr>\n",
       "    <tr>\n",
       "      <th>50%</th>\n",
       "      <td>446.000000</td>\n",
       "      <td>0.000000</td>\n",
       "      <td>3.000000</td>\n",
       "      <td>28.000000</td>\n",
       "      <td>0.000000</td>\n",
       "      <td>0.000000</td>\n",
       "      <td>14.454200</td>\n",
       "    </tr>\n",
       "    <tr>\n",
       "      <th>75%</th>\n",
       "      <td>668.500000</td>\n",
       "      <td>1.000000</td>\n",
       "      <td>3.000000</td>\n",
       "      <td>38.000000</td>\n",
       "      <td>1.000000</td>\n",
       "      <td>0.000000</td>\n",
       "      <td>31.000000</td>\n",
       "    </tr>\n",
       "    <tr>\n",
       "      <th>max</th>\n",
       "      <td>891.000000</td>\n",
       "      <td>1.000000</td>\n",
       "      <td>3.000000</td>\n",
       "      <td>80.000000</td>\n",
       "      <td>8.000000</td>\n",
       "      <td>6.000000</td>\n",
       "      <td>512.329200</td>\n",
       "    </tr>\n",
       "  </tbody>\n",
       "</table>\n",
       "</div>"
      ],
      "text/plain": [
       "       PassengerId    Survived      Pclass         Age       SibSp  \\\n",
       "count   891.000000  891.000000  891.000000  714.000000  891.000000   \n",
       "mean    446.000000    0.383838    2.308642   29.699118    0.523008   \n",
       "std     257.353842    0.486592    0.836071   14.526497    1.102743   \n",
       "min       1.000000    0.000000    1.000000    0.420000    0.000000   \n",
       "25%     223.500000    0.000000    2.000000   20.125000    0.000000   \n",
       "50%     446.000000    0.000000    3.000000   28.000000    0.000000   \n",
       "75%     668.500000    1.000000    3.000000   38.000000    1.000000   \n",
       "max     891.000000    1.000000    3.000000   80.000000    8.000000   \n",
       "\n",
       "            Parch        Fare  \n",
       "count  891.000000  891.000000  \n",
       "mean     0.381594   32.204208  \n",
       "std      0.806057   49.693429  \n",
       "min      0.000000    0.000000  \n",
       "25%      0.000000    7.910400  \n",
       "50%      0.000000   14.454200  \n",
       "75%      0.000000   31.000000  \n",
       "max      6.000000  512.329200  "
      ]
     },
     "execution_count": 7,
     "metadata": {},
     "output_type": "execute_result"
    }
   ],
   "source": [
    "print(train_done.info())\n",
    "train_done.describe()"
   ]
  },
  {
   "cell_type": "code",
   "execution_count": 8,
   "metadata": {},
   "outputs": [
    {
     "name": "stdout",
     "output_type": "stream",
     "text": [
      "<class 'pandas.core.frame.DataFrame'>\n",
      "RangeIndex: 418 entries, 0 to 417\n",
      "Data columns (total 11 columns):\n",
      " #   Column       Non-Null Count  Dtype  \n",
      "---  ------       --------------  -----  \n",
      " 0   PassengerId  418 non-null    int64  \n",
      " 1   Pclass       418 non-null    int64  \n",
      " 2   Name         418 non-null    object \n",
      " 3   Sex          418 non-null    object \n",
      " 4   Age          332 non-null    float64\n",
      " 5   SibSp        418 non-null    int64  \n",
      " 6   Parch        418 non-null    int64  \n",
      " 7   Ticket       418 non-null    object \n",
      " 8   Fare         417 non-null    float64\n",
      " 9   Cabin        91 non-null     object \n",
      " 10  Embarked     418 non-null    object \n",
      "dtypes: float64(2), int64(4), object(5)\n",
      "memory usage: 36.1+ KB\n",
      "None\n"
     ]
    },
    {
     "data": {
      "text/html": [
       "<div>\n",
       "<style scoped>\n",
       "    .dataframe tbody tr th:only-of-type {\n",
       "        vertical-align: middle;\n",
       "    }\n",
       "\n",
       "    .dataframe tbody tr th {\n",
       "        vertical-align: top;\n",
       "    }\n",
       "\n",
       "    .dataframe thead th {\n",
       "        text-align: right;\n",
       "    }\n",
       "</style>\n",
       "<table border=\"1\" class=\"dataframe\">\n",
       "  <thead>\n",
       "    <tr style=\"text-align: right;\">\n",
       "      <th></th>\n",
       "      <th>PassengerId</th>\n",
       "      <th>Pclass</th>\n",
       "      <th>Age</th>\n",
       "      <th>SibSp</th>\n",
       "      <th>Parch</th>\n",
       "      <th>Fare</th>\n",
       "    </tr>\n",
       "  </thead>\n",
       "  <tbody>\n",
       "    <tr>\n",
       "      <th>count</th>\n",
       "      <td>418.000000</td>\n",
       "      <td>418.000000</td>\n",
       "      <td>332.000000</td>\n",
       "      <td>418.000000</td>\n",
       "      <td>418.000000</td>\n",
       "      <td>417.000000</td>\n",
       "    </tr>\n",
       "    <tr>\n",
       "      <th>mean</th>\n",
       "      <td>1100.500000</td>\n",
       "      <td>2.265550</td>\n",
       "      <td>30.272590</td>\n",
       "      <td>0.447368</td>\n",
       "      <td>0.392344</td>\n",
       "      <td>35.627188</td>\n",
       "    </tr>\n",
       "    <tr>\n",
       "      <th>std</th>\n",
       "      <td>120.810458</td>\n",
       "      <td>0.841838</td>\n",
       "      <td>14.181209</td>\n",
       "      <td>0.896760</td>\n",
       "      <td>0.981429</td>\n",
       "      <td>55.907576</td>\n",
       "    </tr>\n",
       "    <tr>\n",
       "      <th>min</th>\n",
       "      <td>892.000000</td>\n",
       "      <td>1.000000</td>\n",
       "      <td>0.170000</td>\n",
       "      <td>0.000000</td>\n",
       "      <td>0.000000</td>\n",
       "      <td>0.000000</td>\n",
       "    </tr>\n",
       "    <tr>\n",
       "      <th>25%</th>\n",
       "      <td>996.250000</td>\n",
       "      <td>1.000000</td>\n",
       "      <td>21.000000</td>\n",
       "      <td>0.000000</td>\n",
       "      <td>0.000000</td>\n",
       "      <td>7.895800</td>\n",
       "    </tr>\n",
       "    <tr>\n",
       "      <th>50%</th>\n",
       "      <td>1100.500000</td>\n",
       "      <td>3.000000</td>\n",
       "      <td>27.000000</td>\n",
       "      <td>0.000000</td>\n",
       "      <td>0.000000</td>\n",
       "      <td>14.454200</td>\n",
       "    </tr>\n",
       "    <tr>\n",
       "      <th>75%</th>\n",
       "      <td>1204.750000</td>\n",
       "      <td>3.000000</td>\n",
       "      <td>39.000000</td>\n",
       "      <td>1.000000</td>\n",
       "      <td>0.000000</td>\n",
       "      <td>31.500000</td>\n",
       "    </tr>\n",
       "    <tr>\n",
       "      <th>max</th>\n",
       "      <td>1309.000000</td>\n",
       "      <td>3.000000</td>\n",
       "      <td>76.000000</td>\n",
       "      <td>8.000000</td>\n",
       "      <td>9.000000</td>\n",
       "      <td>512.329200</td>\n",
       "    </tr>\n",
       "  </tbody>\n",
       "</table>\n",
       "</div>"
      ],
      "text/plain": [
       "       PassengerId      Pclass         Age       SibSp       Parch        Fare\n",
       "count   418.000000  418.000000  332.000000  418.000000  418.000000  417.000000\n",
       "mean   1100.500000    2.265550   30.272590    0.447368    0.392344   35.627188\n",
       "std     120.810458    0.841838   14.181209    0.896760    0.981429   55.907576\n",
       "min     892.000000    1.000000    0.170000    0.000000    0.000000    0.000000\n",
       "25%     996.250000    1.000000   21.000000    0.000000    0.000000    7.895800\n",
       "50%    1100.500000    3.000000   27.000000    0.000000    0.000000   14.454200\n",
       "75%    1204.750000    3.000000   39.000000    1.000000    0.000000   31.500000\n",
       "max    1309.000000    3.000000   76.000000    8.000000    9.000000  512.329200"
      ]
     },
     "execution_count": 8,
     "metadata": {},
     "output_type": "execute_result"
    }
   ],
   "source": [
    "print(test_done.info())\n",
    "test_done.describe()"
   ]
  },
  {
   "cell_type": "markdown",
   "metadata": {},
   "source": [
    "##### We'll remove the PassengerId column since it's useless and we'll also remove the Name column and the Ticket column"
   ]
  },
  {
   "cell_type": "code",
   "execution_count": 9,
   "metadata": {},
   "outputs": [
    {
     "name": "stdout",
     "output_type": "stream",
     "text": [
      "   Survived  Pclass     Sex   Age  SibSp  Parch     Fare Cabin Embarked\n",
      "0         0       3    male  22.0      1      0   7.2500   NaN        S\n",
      "1         1       1  female  38.0      1      0  71.2833   C85        C\n",
      "2         1       3  female  26.0      0      0   7.9250   NaN        S\n",
      "3         1       1  female  35.0      1      0  53.1000  C123        S\n",
      "4         0       3    male  35.0      0      0   8.0500   NaN        S\n",
      "-----------------------------------------------------------------------\n",
      "   Pclass     Sex   Age  SibSp  Parch     Fare Cabin Embarked\n",
      "0       3    male  34.5      0      0   7.8292   NaN        Q\n",
      "1       3  female  47.0      1      0   7.0000   NaN        S\n",
      "2       2    male  62.0      0      0   9.6875   NaN        Q\n",
      "3       3    male  27.0      0      0   8.6625   NaN        S\n",
      "4       3  female  22.0      1      1  12.2875   NaN        S\n"
     ]
    }
   ],
   "source": [
    "train = train_done.drop([\"PassengerId\", \"Ticket\", \"Name\"], axis=1)\n",
    "test = test_done.drop([\"PassengerId\", \"Ticket\", \"Name\"], axis=1)\n",
    "\n",
    "print(train.head())\n",
    "print(\"-----------------------------------------------------------------------\")\n",
    "print(test.head())"
   ]
  },
  {
   "cell_type": "code",
   "execution_count": 10,
   "metadata": {},
   "outputs": [
    {
     "data": {
      "text/plain": [
       "Survived      0\n",
       "Pclass        0\n",
       "Sex           0\n",
       "Age         177\n",
       "SibSp         0\n",
       "Parch         0\n",
       "Fare          0\n",
       "Cabin       687\n",
       "Embarked      2\n",
       "dtype: int64"
      ]
     },
     "execution_count": 10,
     "metadata": {},
     "output_type": "execute_result"
    }
   ],
   "source": [
    "train.isna().sum() # 'Age', 'Cabin' & 'Embarked' have NaN values for training data"
   ]
  },
  {
   "cell_type": "markdown",
   "metadata": {},
   "source": [
    "### Missing Values in the Dataset\n",
    "\n",
    "- **Age:** 177 missing values. This significant number of missing entries in the Age column might impact any analysis or predictive modeling that depends heavily on age. Methods such as imputation (replacing missing values with the mean, median, mode, or using other algorithms) might be necessary to handle these gaps.\n",
    "\n",
    "- **Cabin:** 687 missing values, which is a substantial portion of the data. This high number of missing values in the Cabin column could indicate that cabin information was not well recorded or is missing for many passengers. This missing data might be critical if cabin location is a significant factor in survival rates, and it poses challenges for using this variable in predictive models without substantial data imputation or feature engineering.\n",
    "\n",
    "- **Embarked:** 2 missing values, indicating that almost all passengers have recorded embarkation points, with only a very few missing.\n"
   ]
  },
  {
   "cell_type": "code",
   "execution_count": 11,
   "metadata": {},
   "outputs": [
    {
     "name": "stdout",
     "output_type": "stream",
     "text": [
      "===========================================\n",
      "0    549\n",
      "1    342\n",
      "Name: Survived, dtype: int64\n",
      "===========================================\n",
      "3    491\n",
      "1    216\n",
      "2    184\n",
      "Name: Pclass, dtype: int64\n",
      "===========================================\n",
      "male      577\n",
      "female    314\n",
      "Name: Sex, dtype: int64\n",
      "===========================================\n",
      "0    608\n",
      "1    209\n",
      "2     28\n",
      "4     18\n",
      "3     16\n",
      "8      7\n",
      "5      5\n",
      "Name: SibSp, dtype: int64\n",
      "===========================================\n",
      "0    678\n",
      "1    118\n",
      "2     80\n",
      "5      5\n",
      "3      5\n",
      "4      4\n",
      "6      1\n",
      "Name: Parch, dtype: int64\n",
      "===========================================\n",
      "S    644\n",
      "C    168\n",
      "Q     77\n",
      "Name: Embarked, dtype: int64\n",
      "===========================================\n"
     ]
    }
   ],
   "source": [
    "df_train_list = [train_done.Survived, train_done.Pclass, train_done.Sex, train_done.SibSp, train_done.Parch, train_done.Embarked]\n",
    "\n",
    "print(\"===========================================\")\n",
    "for i in df_train_list:\n",
    "    print(i.value_counts())\n",
    "    print(\"===========================================\")"
   ]
  },
  {
   "cell_type": "code",
   "execution_count": 12,
   "metadata": {},
   "outputs": [
    {
     "data": {
      "text/plain": [
       "PassengerId      0\n",
       "Pclass           0\n",
       "Name             0\n",
       "Sex              0\n",
       "Age             86\n",
       "SibSp            0\n",
       "Parch            0\n",
       "Ticket           0\n",
       "Fare             1\n",
       "Cabin          327\n",
       "Embarked         0\n",
       "dtype: int64"
      ]
     },
     "execution_count": 12,
     "metadata": {},
     "output_type": "execute_result"
    }
   ],
   "source": [
    "test_done.isna().sum() # 'Age', 'Cabin' have NaN values for testing data"
   ]
  },
  {
   "cell_type": "markdown",
   "metadata": {},
   "source": [
    "### Missing Values in the Dataset\n",
    "\n",
    "- **Age:** 86 missing values, similar to the training set, indicating a significant number of passengers for whom age is not recorded. This needs to be addressed, possibly through imputation, for analyses or models that use age.\n",
    "\n",
    "- **Fare:** 1 missing value, which is minimal but important as fare might correlate with other variables like passenger class or survival probability. This missing value should be filled for accurate modeling.\n",
    "\n",
    "- **Cabin:** 327 missing values, again a substantial portion similar to the training set. This large number of missing cabin details represents a challenge for any analysis that considers cabin data, requiring potentially significant data imputation or a decision to drop or alter this feature for model training.\n"
   ]
  },
  {
   "cell_type": "markdown",
   "metadata": {},
   "source": [
    "#### From the above info, we can see that in the Embarked list the number of \"S\" designation is a lot more than any other. We can then replace all null with S."
   ]
  },
  {
   "cell_type": "code",
   "execution_count": 13,
   "metadata": {},
   "outputs": [
    {
     "name": "stdout",
     "output_type": "stream",
     "text": [
      "         Survived      Pclass         Age       SibSp       Parch        Fare\n",
      "count  891.000000  891.000000  714.000000  891.000000  891.000000  891.000000\n",
      "mean     0.383838    2.308642   29.699118    0.523008    0.381594   32.204208\n",
      "std      0.486592    0.836071   14.526497    1.102743    0.806057   49.693429\n",
      "min      0.000000    1.000000    0.420000    0.000000    0.000000    0.000000\n",
      "25%      0.000000    2.000000   20.125000    0.000000    0.000000    7.910400\n",
      "50%      0.000000    3.000000   28.000000    0.000000    0.000000   14.454200\n",
      "75%      1.000000    3.000000   38.000000    1.000000    0.000000   31.000000\n",
      "max      1.000000    3.000000   80.000000    8.000000    6.000000  512.329200\n",
      "Survived      0\n",
      "Pclass        0\n",
      "Sex           0\n",
      "Age         177\n",
      "SibSp         0\n",
      "Parch         0\n",
      "Fare          0\n",
      "Cabin       687\n",
      "Embarked      2\n",
      "dtype: int64\n",
      "           Pclass         Age       SibSp       Parch        Fare\n",
      "count  418.000000  332.000000  418.000000  418.000000  417.000000\n",
      "mean     2.265550   30.272590    0.447368    0.392344   35.627188\n",
      "std      0.841838   14.181209    0.896760    0.981429   55.907576\n",
      "min      1.000000    0.170000    0.000000    0.000000    0.000000\n",
      "25%      1.000000   21.000000    0.000000    0.000000    7.895800\n",
      "50%      3.000000   27.000000    0.000000    0.000000   14.454200\n",
      "75%      3.000000   39.000000    1.000000    0.000000   31.500000\n",
      "max      3.000000   76.000000    8.000000    9.000000  512.329200\n",
      "Pclass        0\n",
      "Sex           0\n",
      "Age          86\n",
      "SibSp         0\n",
      "Parch         0\n",
      "Fare          1\n",
      "Cabin       327\n",
      "Embarked      0\n",
      "dtype: int64\n"
     ]
    }
   ],
   "source": [
    "# we'll look at the training set\n",
    "print(train.describe())\n",
    "print(train.isna().sum())\n",
    "\n",
    "# we'll look at the testing set\n",
    "print(test.describe())\n",
    "print(test.isna().sum())"
   ]
  },
  {
   "cell_type": "markdown",
   "metadata": {},
   "source": [
    "It's clear that the Cabin column in both the training and testing set is mostly made of Nan values, so it's nearly pointless to keep that column(if we wish to drop Nan values in that column we'll drop a large portion of the rows, and replacing the Nan values won't be an efficient strategy since they are many, It's almost like creating new Data!)"
   ]
  },
  {
   "cell_type": "code",
   "execution_count": 14,
   "metadata": {},
   "outputs": [
    {
     "name": "stdout",
     "output_type": "stream",
     "text": [
      "   Survived  Pclass     Sex   Age  SibSp  Parch     Fare Embarked\n",
      "0         0       3    male  22.0      1      0   7.2500        S\n",
      "1         1       1  female  38.0      1      0  71.2833        C\n",
      "2         1       3  female  26.0      0      0   7.9250        S\n",
      "3         1       1  female  35.0      1      0  53.1000        S\n",
      "4         0       3    male  35.0      0      0   8.0500        S\n",
      "   Pclass     Sex   Age  SibSp  Parch     Fare Embarked\n",
      "0       3    male  34.5      0      0   7.8292        Q\n",
      "1       3  female  47.0      1      0   7.0000        S\n",
      "2       2    male  62.0      0      0   9.6875        Q\n",
      "3       3    male  27.0      0      0   8.6625        S\n",
      "4       3  female  22.0      1      1  12.2875        S\n",
      "Survived      0\n",
      "Pclass        0\n",
      "Sex           0\n",
      "Age         177\n",
      "SibSp         0\n",
      "Parch         0\n",
      "Fare          0\n",
      "Embarked      2\n",
      "dtype: int64\n",
      "Pclass       0\n",
      "Sex          0\n",
      "Age         86\n",
      "SibSp        0\n",
      "Parch        0\n",
      "Fare         1\n",
      "Embarked     0\n",
      "dtype: int64\n"
     ]
    }
   ],
   "source": [
    "train = train.drop([\"Cabin\"], axis=1)\n",
    "test = test.drop([\"Cabin\"], axis=1)\n",
    "\n",
    "print(train.head())\n",
    "print(test.head())\n",
    "\n",
    "##################################################\n",
    "\n",
    "print(train.isna().sum())\n",
    "print(test.isna().sum())"
   ]
  },
  {
   "cell_type": "markdown",
   "metadata": {},
   "source": [
    "We can see that there are only 2 Nan rows in Embarked which is a very slight amount compared to 891 rows of the training set, so removing these rows won't be a problem or we can also replace with S (most occuring), The only thing to consider here is the Age column in bith the training and testing sets, Later on we'll see how we handle those missing values"
   ]
  },
  {
   "cell_type": "code",
   "execution_count": 15,
   "metadata": {},
   "outputs": [],
   "source": [
    "train = train.dropna(subset=[\"Embarked\"])"
   ]
  },
  {
   "cell_type": "code",
   "execution_count": 16,
   "metadata": {},
   "outputs": [
    {
     "name": "stdout",
     "output_type": "stream",
     "text": [
      "   Survived  Pclass     Sex   Age  SibSp  Parch     Fare Embarked\n",
      "0         0       3    male  22.0      1      0   7.2500        S\n",
      "1         1       1  female  38.0      1      0  71.2833        C\n",
      "2         1       3  female  26.0      0      0   7.9250        S\n",
      "3         1       1  female  35.0      1      0  53.1000        S\n",
      "4         0       3    male  35.0      0      0   8.0500        S\n",
      "   Pclass     Sex   Age  SibSp  Parch     Fare Embarked\n",
      "0       3    male  34.5      0      0   7.8292        Q\n",
      "1       3  female  47.0      1      0   7.0000        S\n",
      "2       2    male  62.0      0      0   9.6875        Q\n",
      "3       3    male  27.0      0      0   8.6625        S\n",
      "4       3  female  22.0      1      1  12.2875        S\n",
      "Survived      0\n",
      "Pclass        0\n",
      "Sex           0\n",
      "Age         177\n",
      "SibSp         0\n",
      "Parch         0\n",
      "Fare          0\n",
      "Embarked      0\n",
      "dtype: int64\n",
      "Pclass       0\n",
      "Sex          0\n",
      "Age         86\n",
      "SibSp        0\n",
      "Parch        0\n",
      "Fare         1\n",
      "Embarked     0\n",
      "dtype: int64\n"
     ]
    }
   ],
   "source": [
    "print(train.head())\n",
    "print(test.head())\n",
    "\n",
    "##################################################\n",
    "\n",
    "print(train.isna().sum())\n",
    "print(test.isna().sum())"
   ]
  },
  {
   "cell_type": "code",
   "execution_count": 17,
   "metadata": {},
   "outputs": [
    {
     "name": "stdout",
     "output_type": "stream",
     "text": [
      "     Pclass   Sex   Age  SibSp  Parch  Fare Embarked\n",
      "152       3  male  60.5      0      0   NaN        S\n"
     ]
    }
   ],
   "source": [
    "print(test[test[\"Fare\"].isna()])"
   ]
  },
  {
   "cell_type": "markdown",
   "metadata": {},
   "source": [
    "###### If we know that this guy had a third class ticket, we could easily fill the fare value with the mean of the Fare of third class passengers."
   ]
  },
  {
   "cell_type": "code",
   "execution_count": 18,
   "metadata": {},
   "outputs": [
    {
     "name": "stdout",
     "output_type": "stream",
     "text": [
      "Pclass              3\n",
      "Sex              male\n",
      "Age              60.5\n",
      "SibSp               0\n",
      "Parch               0\n",
      "Fare        12.459678\n",
      "Embarked            S\n",
      "Name: 152, dtype: object\n"
     ]
    }
   ],
   "source": [
    "test.iloc[152, 5] = np.mean(test[test[\"Pclass\"]==3][\"Fare\"])\n",
    "\n",
    "print(test.iloc[152, :])"
   ]
  },
  {
   "cell_type": "code",
   "execution_count": 19,
   "metadata": {},
   "outputs": [
    {
     "name": "stdout",
     "output_type": "stream",
     "text": [
      "Survived      0\n",
      "Pclass        0\n",
      "Sex           0\n",
      "Age         177\n",
      "SibSp         0\n",
      "Parch         0\n",
      "Fare          0\n",
      "Embarked      0\n",
      "dtype: int64\n",
      "Pclass       0\n",
      "Sex          0\n",
      "Age         86\n",
      "SibSp        0\n",
      "Parch        0\n",
      "Fare         0\n",
      "Embarked     0\n",
      "dtype: int64\n"
     ]
    }
   ],
   "source": [
    "print(train.isna().sum())\n",
    "print(test.isna().sum())"
   ]
  },
  {
   "cell_type": "markdown",
   "metadata": {},
   "source": [
    "I am not going to use mean and median imputation for imputing the age column values , instead i will use different appraoch which is as follows: \n",
    "\n",
    "## Handling Missing Age Values\n",
    "\n",
    "### 1. Data Preparation:\n",
    "#### Convert categorical variable 'Sex' into binary values (0 for female, 1 for male).\n",
    "#### Apply one-hot encoding to the 'Embarked' column.\n",
    "\n",
    "### 2. Random Forest Regression:\n",
    "#### Instead of imputing missing ages with a single value like mean or median, a Random Forest Regressor model is trained on the non-missing data.\n",
    "#### Features used for prediction are all columns except 'Age', with 'Age' as the target variable.\n",
    "\n",
    "### 3. Model Training:\n",
    "#### Train the Random Forest Regressor with 100 estimators, ensuring robust prediction based on available data.\n",
    "\n",
    "### 4. Prediction:\n",
    "#### After training the model, use it to predict missing ages for rows where 'Age' is NaN.\n",
    "\n",
    "### 5. Filling Missing Values:\n",
    "#### Fill missing ages with predicted values obtained from the Random Forest Regressor model.\n",
    "\n",
    "## Advantages Over Mean or Median Imputation:\n",
    "#### Captures complex relationships between 'Age' and other features in the dataset.\n",
    "#### Captures more nuanced patterns and variations in age, resulting in more accurate imputations.\n",
    "#### Avoids biasing the data with a single value and provides a more realistic distribution of age values."
   ]
  },
  {
   "cell_type": "markdown",
   "metadata": {},
   "source": [
    "#### the only thing left to handle is the Age column"
   ]
  },
  {
   "cell_type": "code",
   "execution_count": 20,
   "metadata": {},
   "outputs": [
    {
     "name": "stdout",
     "output_type": "stream",
     "text": [
      "   Survived  Pclass  Sex   Age  SibSp  Parch     Fare  Embarked_C  Embarked_Q  \\\n",
      "0         0       3    1  22.0      1      0   7.2500           0           0   \n",
      "1         1       1    0  38.0      1      0  71.2833           1           0   \n",
      "2         1       3    0  26.0      0      0   7.9250           0           0   \n",
      "3         1       1    0  35.0      1      0  53.1000           0           0   \n",
      "4         0       3    1  35.0      0      0   8.0500           0           0   \n",
      "\n",
      "   Embarked_S  \n",
      "0           1  \n",
      "1           0  \n",
      "2           1  \n",
      "3           1  \n",
      "4           1  \n",
      "   Pclass  Sex   Age  SibSp  Parch     Fare  Embarked_C  Embarked_Q  \\\n",
      "0       3    1  34.5      0      0   7.8292           0           1   \n",
      "1       3    0  47.0      1      0   7.0000           0           0   \n",
      "2       2    1  62.0      0      0   9.6875           0           1   \n",
      "3       3    1  27.0      0      0   8.6625           0           0   \n",
      "4       3    0  22.0      1      1  12.2875           0           0   \n",
      "\n",
      "   Embarked_S  \n",
      "0           0  \n",
      "1           1  \n",
      "2           0  \n",
      "3           1  \n",
      "4           1  \n"
     ]
    }
   ],
   "source": [
    "import pandas as pd\n",
    "from sklearn.ensemble import RandomForestRegressor\n",
    "\n",
    "# before using the model we'll have to convert Sex column to binary values as well as hot encode the embarked column!\n",
    "train[\"Sex\"] = [1 if i==\"male\" else 0 for i in train[\"Sex\"]]\n",
    "test[\"Sex\"] = [1 if i==\"male\" else 0 for i in test[\"Sex\"]]\n",
    "\n",
    "train = pd.get_dummies(train)\n",
    "test = pd.get_dummies(test)\n",
    "\n",
    "print(train.head())\n",
    "print(test.head())"
   ]
  },
  {
   "cell_type": "code",
   "execution_count": 21,
   "metadata": {},
   "outputs": [
    {
     "name": "stdout",
     "output_type": "stream",
     "text": [
      "Missing values in training set:\n",
      "Survived      0\n",
      "Pclass        0\n",
      "Sex           0\n",
      "Age           0\n",
      "SibSp         0\n",
      "Parch         0\n",
      "Fare          0\n",
      "Embarked_C    0\n",
      "Embarked_Q    0\n",
      "Embarked_S    0\n",
      "dtype: int64\n",
      "\n",
      "Missing values in testing set:\n",
      "Pclass        0\n",
      "Sex           0\n",
      "Age           0\n",
      "SibSp         0\n",
      "Parch         0\n",
      "Fare          0\n",
      "Embarked_C    0\n",
      "Embarked_Q    0\n",
      "Embarked_S    0\n",
      "dtype: int64\n"
     ]
    }
   ],
   "source": [
    "# Random Forest Regression\n",
    "def fill_missing_ages(df):\n",
    "    X = df.drop(['Age'], axis=1)\n",
    "    y = df['Age']\n",
    "\n",
    "    X_missing = X[y.isna()]\n",
    "    y_missing = y[y.isna()]\n",
    "    \n",
    "    X_not_missing = X[~y.isna()]\n",
    "    y_not_missing = y[~y.isna()]\n",
    "\n",
    "    # Train a regression model on the non-missing data\n",
    "    model = RandomForestRegressor(n_estimators=100, random_state=42)\n",
    "    model.fit(X_not_missing, y_not_missing)\n",
    "\n",
    "    # Predict the missing ages\n",
    "    predictions = model.predict(X_missing)\n",
    "\n",
    "    # Fill the missing ages with the predictions\n",
    "    df.loc[y.isna(), 'Age'] = predictions\n",
    "\n",
    "    return df\n",
    "\n",
    "# Fill missing values in the 'Age' column\n",
    "train = fill_missing_ages(train)\n",
    "test = fill_missing_ages(test)\n",
    "\n",
    "# Verify if there are any remaining missing values\n",
    "print(\"Missing values in training set:\")\n",
    "print(train.isna().sum())\n",
    "print(\"\\nMissing values in testing set:\")\n",
    "print(test.isna().sum())"
   ]
  },
  {
   "cell_type": "markdown",
   "metadata": {},
   "source": [
    "###### Missing values in the Age column have been replaced successfully and now i will proceed with the visualization part.\n",
    "\n",
    "### An Important Note\n",
    "I could have easily converted the Pclass column into a categorical column then turn it into a dummy column like the Embarked column, But I preferred to keep it as a numerical one due to the ORDINAL nature of this column."
   ]
  },
  {
   "cell_type": "code",
   "execution_count": 22,
   "metadata": {},
   "outputs": [
    {
     "data": {
      "image/png": "[encoded data removed]",
      "text/plain": [
       "<Figure size 640x480 with 1 Axes>"
      ]
     },
     "metadata": {},
     "output_type": "display_data"
    }
   ],
   "source": [
    "import warnings\n",
    "\n",
    "# Suppressing warnings\n",
    "warnings.filterwarnings(\"ignore\", message=\"use_inf_as_na option is deprecated\")\n",
    "\n",
    "# Plot histogram with Seaborn\n",
    "sns.set_style(\"whitegrid\")  # Setting background style to white grid\n",
    "sns.histplot(data=train, x=\"Age\", color='mediumseagreen')  # Setting bar color to light green\n",
    "plt.gca().set_facecolor('lightblue')  # Setting background color to light blue\n",
    "plt.show()"
   ]
  },
  {
   "cell_type": "markdown",
   "metadata": {},
   "source": [
    "From this visualisation , the most common ages were from 20 to 40."
   ]
  },
  {
   "cell_type": "code",
   "execution_count": 23,
   "metadata": {},
   "outputs": [
    {
     "data": {
      "text/plain": [
       "<Figure size 640x480 with 0 Axes>"
      ]
     },
     "metadata": {},
     "output_type": "display_data"
    },
    {
     "data": {
      "image/png": "[encoded data removed]",
      "text/plain": [
       "<Figure size 1265.36x300 with 1 Axes>"
      ]
     },
     "metadata": {},
     "output_type": "display_data"
    },
    {
     "data": {
      "text/plain": [
       "<Figure size 640x480 with 0 Axes>"
      ]
     },
     "metadata": {},
     "output_type": "display_data"
    },
    {
     "data": {
      "image/png": "[encoded data removed]",
      "text/plain": [
       "<Figure size 1265.36x300 with 1 Axes>"
      ]
     },
     "metadata": {},
     "output_type": "display_data"
    }
   ],
   "source": [
    "# Define custom colors\n",
    "palette = {0: \"green\", 1: \"red\"}\n",
    "\n",
    "# Set background color to light blue\n",
    "plt.figure(facecolor='lightblue')\n",
    "\n",
    "# Create the FacetGrid plot\n",
    "facet = sns.FacetGrid(train, hue=\"Survived\", aspect=4, palette=palette)\n",
    "facet.map(sns.kdeplot, 'Age', fill=True)\n",
    "facet.set(xlim=(0, train['Age'].max()))\n",
    "facet.add_legend()\n",
    "\n",
    "# Show the plot with the specified background color\n",
    "plt.show()\n",
    "\n",
    "# Create the FacetGrid plot with specified x limits\n",
    "plt.figure(facecolor='lightblue')\n",
    "facet = sns.FacetGrid(train, hue=\"Survived\", aspect=4, palette=palette)\n",
    "facet.map(sns.kdeplot, 'Age', fill=True)\n",
    "facet.set(xlim=(0, train['Age'].max()))\n",
    "facet.add_legend()\n",
    "plt.xlim(10, 50)\n",
    "\n",
    "# Show the plot with the specified background color and x limits\n",
    "plt.show()"
   ]
  },
  {
   "cell_type": "markdown",
   "metadata": {},
   "source": [
    "Those who were 20 to 30 years old were more dead and more survived."
   ]
  },
  {
   "cell_type": "code",
   "execution_count": 24,
   "metadata": {},
   "outputs": [
    {
     "data": {
      "image/png": "[encoded data removed]",
      "text/plain": [
       "<Figure size 640x480 with 1 Axes>"
      ]
     },
     "metadata": {},
     "output_type": "display_data"
    },
    {
     "data": {
      "image/png": "[encoded data removed]",
      "text/plain": [
       "<Figure size 640x480 with 1 Axes>"
      ]
     },
     "metadata": {},
     "output_type": "display_data"
    }
   ],
   "source": [
    "# Suppressing warnings\n",
    "warnings.filterwarnings(\"ignore\", message=\"use_inf_as_na option is deprecated\")\n",
    "\n",
    "# Plot countplot with Seaborn\n",
    "sns.set_style(\"whitegrid\")  # Setting background style to white grid\n",
    "\n",
    "# Plot countplot for SibSp\n",
    "sns.countplot(data=train, x=\"SibSp\", color='mediumseagreen')  # Setting bar color to light green\n",
    "plt.gca().set_facecolor('lightblue')  # Setting background color to light blue\n",
    "plt.show()\n",
    "\n",
    "# Plot countplot for SibSp with hue as 'Survived'\n",
    "sns.set_style(\"whitegrid\")  # Setting background style to white grid\n",
    "sns.countplot(data=train, x=\"SibSp\", hue=\"Survived\", palette={0: 'red', 1: 'mediumseagreen'})  # Setting bar color to red for 'Not Survived' and light green for 'Survived'\n",
    "plt.gca().set_facecolor('lightblue')  # Setting background color to light blue\n",
    "plt.show()\n"
   ]
  },
  {
   "cell_type": "markdown",
   "metadata": {},
   "source": [
    "It seems that having one Sibling or Spouse yielded a higher chance of survival than death!, although the probabilities are relatively close, with 2 SibSp it's nearly half-half and a person aboarded without siblings or spouse more likely dead."
   ]
  },
  {
   "cell_type": "code",
   "execution_count": 25,
   "metadata": {},
   "outputs": [
    {
     "data": {
      "image/png": "[encoded data removed]",
      "text/plain": [
       "<Figure size 640x480 with 1 Axes>"
      ]
     },
     "metadata": {},
     "output_type": "display_data"
    },
    {
     "data": {
      "image/png": "[encoded data removed]",
      "text/plain": [
       "<Figure size 640x480 with 1 Axes>"
      ]
     },
     "metadata": {},
     "output_type": "display_data"
    }
   ],
   "source": [
    "# Suppressing warnings\n",
    "warnings.filterwarnings(\"ignore\", message=\"use_inf_as_na option is deprecated\")\n",
    "\n",
    "# Plot countplot with Seaborn\n",
    "sns.set_style(\"whitegrid\")  # Setting background style to white grid\n",
    "\n",
    "# Plot countplot for Parch\n",
    "sns.countplot(data=train, x=\"Parch\", color='mediumseagreen')  # Setting bar color to light green\n",
    "plt.gca().set_facecolor('lightblue')  # Setting background color to light blue\n",
    "plt.show()\n",
    "\n",
    "# Plot countplot for Parch with hue as 'Survived'\n",
    "sns.set_style(\"whitegrid\")  # Setting background style to white grid\n",
    "sns.countplot(data=train, x=\"Parch\", hue=\"Survived\", palette={0: 'red', 1: 'mediumseagreen'})  # Setting bar color to red for 'Not Survived' and light green for 'Survived'\n",
    "plt.gca().set_facecolor('lightblue')  # Setting background color to light blue\n",
    "plt.show()"
   ]
  },
  {
   "cell_type": "markdown",
   "metadata": {},
   "source": [
    "Having one Parent or Child yielded a higher chance of survival, while having 2 has a fifty-fifty probability and  a person aboarded alone more likely dead."
   ]
  },
  {
   "cell_type": "code",
   "execution_count": 26,
   "metadata": {},
   "outputs": [
    {
     "data": {
      "image/png": "[encoded data removed]",
      "text/plain": [
       "<Figure size 640x480 with 1 Axes>"
      ]
     },
     "metadata": {},
     "output_type": "display_data"
    },
    {
     "data": {
      "image/png": "[encoded data removed]",
      "text/plain": [
       "<Figure size 1800x600 with 3 Axes>"
      ]
     },
     "metadata": {},
     "output_type": "display_data"
    }
   ],
   "source": [
    "# Suppressing warnings\n",
    "warnings.filterwarnings(\"ignore\", message=\"use_inf_as_na option is deprecated\")\n",
    "\n",
    "# Plot histogram with Seaborn\n",
    "sns.set_style(\"whitegrid\")  # Setting background style to white grid\n",
    "sns.histplot(data=train, x=\"Fare\", color='mediumseagreen')  # Setting bar color to medium green\n",
    "plt.gca().set_facecolor('lightblue')  # Setting background color to light blue\n",
    "plt.show()\n",
    "\n",
    "# Plotting histogram of fare against passenger class\n",
    "sns.set_style(\"whitegrid\")  # Setting background style to white grid\n",
    "g = sns.FacetGrid(train, col=\"Pclass\", height=6)\n",
    "g.map(sns.histplot, \"Fare\", color='mediumseagreen', bins=20)\n",
    "plt.subplots_adjust(top=0.85)\n",
    "g.fig.suptitle('Fare Distribution by Passenger Class', fontsize=16)\n",
    "plt.show()"
   ]
  },
  {
   "cell_type": "markdown",
   "metadata": {},
   "source": [
    "#### It looks perfectly fine and nothing is odd , lower Fares are extremely common since most of those on the Titanic were 3rd class followed by 2nd class and 1st class."
   ]
  },
  {
   "cell_type": "markdown",
   "metadata": {},
   "source": [
    "***Let me check the survival probabilty of those who had a fare of over 500 ( as shown in the Fare Distribution by passenger class plot)***"
   ]
  },
  {
   "cell_type": "code",
   "execution_count": 27,
   "metadata": {},
   "outputs": [
    {
     "data": {
      "image/png": "[encoded data removed]",
      "text/plain": [
       "<Figure size 640x480 with 1 Axes>"
      ]
     },
     "metadata": {},
     "output_type": "display_data"
    }
   ],
   "source": [
    "here_comes_the_money = train[train[\"Fare\"]>=500]\n",
    "\n",
    "sns.countplot(data=here_comes_the_money, x=\"Survived\" , color='mediumseagreen')\n",
    "plt.show()"
   ]
  },
  {
   "cell_type": "markdown",
   "metadata": {},
   "source": [
    "***So here , three had a fare of over 500 and three of them survived.***"
   ]
  },
  {
   "cell_type": "markdown",
   "metadata": {},
   "source": [
    "**Let's also check for those who had a fare of over 200.**"
   ]
  },
  {
   "cell_type": "code",
   "execution_count": 28,
   "metadata": {},
   "outputs": [
    {
     "data": {
      "image/png": "[encoded data removed]",
      "text/plain": [
       "<Figure size 640x480 with 1 Axes>"
      ]
     },
     "metadata": {},
     "output_type": "display_data"
    }
   ],
   "source": [
    "over_200 = train[train[\"Fare\"]>=200]\n",
    "\n",
    "sns.countplot(data=over_200, x=\"Survived\", color = \"mediumseagreen\")\n",
    "plt.show()"
   ]
  },
  {
   "cell_type": "markdown",
   "metadata": {},
   "source": [
    "***Here , 14 out of 20 survived and that a 70 percent survival rate if you paid a fare of over 200.***"
   ]
  },
  {
   "cell_type": "markdown",
   "metadata": {},
   "source": []
  },
  {
   "cell_type": "code",
   "execution_count": 29,
   "metadata": {},
   "outputs": [],
   "source": [
    "#Feature Selection\n",
    "column_train=['Age','Pclass','SibSp','Parch','Fare','Sex']\n",
    "#training values\n",
    "X=train[column_train]\n",
    "#target value\n",
    "Y=train['Survived']"
   ]
  },
  {
   "cell_type": "code",
   "execution_count": 30,
   "metadata": {},
   "outputs": [],
   "source": [
    "#Training Testing and Spliting the model\n",
    "X_train, X_test, Y_train, Y_test = train_test_split(X,Y,test_size=0.3,random_state=7)"
   ]
  },
  {
   "cell_type": "code",
   "execution_count": 31,
   "metadata": {},
   "outputs": [
    {
     "name": "stdout",
     "output_type": "stream",
     "text": [
      "Accuracy Score: 0.7902621722846442\n"
     ]
    }
   ],
   "source": [
    "#Using LogisticRegression\n",
    "model = LogisticRegression()\n",
    "model.fit(X_train,Y_train)\n",
    "Y_pred = model.predict(X_test)\n",
    "\n",
    "print(\"Accuracy Score:\",accuracy_score(Y_test,Y_pred))"
   ]
  },
  {
   "cell_type": "code",
   "execution_count": 32,
   "metadata": {},
   "outputs": [
    {
     "name": "stdout",
     "output_type": "stream",
     "text": [
      "[[136  24]\n",
      " [ 32  75]]\n"
     ]
    }
   ],
   "source": [
    "#Confusion Matrix\n",
    "\n",
    "confusion_mat = confusion_matrix(Y_test,Y_pred)\n",
    "print(confusion_mat)"
   ]
  },
  {
   "cell_type": "code",
   "execution_count": 33,
   "metadata": {},
   "outputs": [
    {
     "name": "stdout",
     "output_type": "stream",
     "text": [
      "Accuracy Score : 0.651685393258427\n"
     ]
    }
   ],
   "source": [
    "#Using Support Vector\n",
    "model1 = SVC()\n",
    "model1.fit(X_train,Y_train)\n",
    "\n",
    "pred_y = model1.predict(X_test)\n",
    "\n",
    "from sklearn.metrics import accuracy_score\n",
    "print(\"Accuracy Score :\",accuracy_score(Y_test,pred_y))"
   ]
  },
  {
   "cell_type": "code",
   "execution_count": 34,
   "metadata": {},
   "outputs": [
    {
     "name": "stdout",
     "output_type": "stream",
     "text": [
      "[[145  15]\n",
      " [ 78  29]]\n",
      "              precision    recall  f1-score   support\n",
      "\n",
      "           0       0.65      0.91      0.76       160\n",
      "           1       0.66      0.27      0.38       107\n",
      "\n",
      "    accuracy                           0.65       267\n",
      "   macro avg       0.65      0.59      0.57       267\n",
      "weighted avg       0.65      0.65      0.61       267\n",
      "\n"
     ]
    }
   ],
   "source": [
    "confusion_mat = confusion_matrix(Y_test,pred_y)\n",
    "print(confusion_mat)\n",
    "print(classification_report(Y_test,pred_y))"
   ]
  },
  {
   "cell_type": "code",
   "execution_count": 35,
   "metadata": {},
   "outputs": [
    {
     "name": "stdout",
     "output_type": "stream",
     "text": [
      "Accuracy Score: 0.7228464419475655\n"
     ]
    }
   ],
   "source": [
    "#Using KNN Neighbors\n",
    "model2 = KNeighborsClassifier(n_neighbors=5)\n",
    "model2.fit(X_train,Y_train)\n",
    "y_pred2 = model2.predict(X_test)\n",
    "\n",
    "from sklearn.metrics import accuracy_score\n",
    "print(\"Accuracy Score:\",accuracy_score(Y_test,y_pred2))"
   ]
  },
  {
   "cell_type": "code",
   "execution_count": 36,
   "metadata": {},
   "outputs": [
    {
     "name": "stdout",
     "output_type": "stream",
     "text": [
      "[[127  33]\n",
      " [ 41  66]]\n",
      "              precision    recall  f1-score   support\n",
      "\n",
      "           0       0.76      0.79      0.77       160\n",
      "           1       0.67      0.62      0.64       107\n",
      "\n",
      "    accuracy                           0.72       267\n",
      "   macro avg       0.71      0.71      0.71       267\n",
      "weighted avg       0.72      0.72      0.72       267\n",
      "\n"
     ]
    }
   ],
   "source": [
    "confusion_mat = confusion_matrix(Y_test,y_pred2)\n",
    "print(confusion_mat)\n",
    "print(classification_report(Y_test,y_pred2))"
   ]
  },
  {
   "cell_type": "code",
   "execution_count": 37,
   "metadata": {},
   "outputs": [
    {
     "name": "stdout",
     "output_type": "stream",
     "text": [
      "Accuracy Score: 0.7827715355805244\n"
     ]
    }
   ],
   "source": [
    "#Using GaussianNB\n",
    "model3 = GaussianNB()\n",
    "model3.fit(X_train,Y_train)\n",
    "y_pred3 = model3.predict(X_test)\n",
    "\n",
    "from sklearn.metrics import accuracy_score\n",
    "print(\"Accuracy Score:\",accuracy_score(Y_test,y_pred3))"
   ]
  },
  {
   "cell_type": "code",
   "execution_count": 38,
   "metadata": {},
   "outputs": [
    {
     "name": "stdout",
     "output_type": "stream",
     "text": [
      "[[131  29]\n",
      " [ 29  78]]\n",
      "              precision    recall  f1-score   support\n",
      "\n",
      "           0       0.82      0.82      0.82       160\n",
      "           1       0.73      0.73      0.73       107\n",
      "\n",
      "    accuracy                           0.78       267\n",
      "   macro avg       0.77      0.77      0.77       267\n",
      "weighted avg       0.78      0.78      0.78       267\n",
      "\n"
     ]
    }
   ],
   "source": [
    "confusion_mat = confusion_matrix(Y_test,y_pred3)\n",
    "print(confusion_mat)\n",
    "print(classification_report(Y_test,y_pred3))"
   ]
  },
  {
   "cell_type": "code",
   "execution_count": 39,
   "metadata": {},
   "outputs": [
    {
     "name": "stdout",
     "output_type": "stream",
     "text": [
      "Accuracy Score: 0.7752808988764045\n"
     ]
    }
   ],
   "source": [
    "#Using Decision Tree\n",
    "model4 = DecisionTreeClassifier(criterion='entropy',random_state=7)\n",
    "model4.fit(X_train,Y_train)\n",
    "y_pred4 = model4.predict(X_test)\n",
    "\n",
    "from sklearn.metrics import accuracy_score\n",
    "print(\"Accuracy Score:\",accuracy_score(Y_test,y_pred4))"
   ]
  },
  {
   "cell_type": "code",
   "execution_count": 40,
   "metadata": {},
   "outputs": [
    {
     "name": "stdout",
     "output_type": "stream",
     "text": [
      "[[135  25]\n",
      " [ 35  72]]\n",
      "              precision    recall  f1-score   support\n",
      "\n",
      "           0       0.79      0.84      0.82       160\n",
      "           1       0.74      0.67      0.71       107\n",
      "\n",
      "    accuracy                           0.78       267\n",
      "   macro avg       0.77      0.76      0.76       267\n",
      "weighted avg       0.77      0.78      0.77       267\n",
      "\n"
     ]
    }
   ],
   "source": [
    "confusion_mat = confusion_matrix(Y_test,y_pred4)\n",
    "print(confusion_mat)\n",
    "print(classification_report(Y_test,y_pred4))"
   ]
  },
  {
   "cell_type": "code",
   "execution_count": 41,
   "metadata": {},
   "outputs": [
    {
     "ename": "NameError",
     "evalue": "name 'models' is not defined",
     "output_type": "error",
     "traceback": [
      "\u001b[1;31m---------------------------------------------------------------------------\u001b[0m",
      "\u001b[1;31mNameError\u001b[0m                                 Traceback (most recent call last)",
      "Cell \u001b[1;32mIn [41], line 3\u001b[0m\n\u001b[0;32m      1\u001b[0m \u001b[38;5;66;03m# Collect results\u001b[39;00m\n\u001b[0;32m      2\u001b[0m results \u001b[38;5;241m=\u001b[39m {}\n\u001b[1;32m----> 3\u001b[0m \u001b[38;5;28;01mfor\u001b[39;00m name, model \u001b[38;5;129;01min\u001b[39;00m \u001b[43mmodels\u001b[49m\u001b[38;5;241m.\u001b[39mitems():\n\u001b[0;32m      4\u001b[0m     model\u001b[38;5;241m.\u001b[39mfit(X_train, Y_train)\n\u001b[0;32m      5\u001b[0m     Y_pred \u001b[38;5;241m=\u001b[39m model\u001b[38;5;241m.\u001b[39mpredict(X_test)\n",
      "\u001b[1;31mNameError\u001b[0m: name 'models' is not defined"
     ]
    }
   ],
   "source": [
    "# Collect results\n",
    "results = {}\n",
    "for name, model in models.items():\n",
    "    model.fit(X_train, Y_train)\n",
    "    Y_pred = model.predict(X_test)\n",
    "    results[name] = {\n",
    "        'Accuracy': accuracy_score(Y_test, Y_pred),\n",
    "        'Precision': precision_score(Y_test, Y_pred),\n",
    "        'Recall': recall_score(Y_test, Y_pred)\n",
    "    }\n",
    "\n",
    "# Prepare results for tabulate\n",
    "table_data = []\n",
    "for model_name, metrics in results.items():\n",
    "    table_data.append([\n",
    "        model_name,\n",
    "        f\"\\033[92m{metrics['Accuracy']:.2f}\\033[0m\",   # Green color for Accuracy\n",
    "        f\"\\033[94m{metrics['Precision']:.2f}\\033[0m\", # Blue color for Precision\n",
    "        f\"\\033[93m{metrics['Recall']:.2f}\\033[0m\"     # Yellow color for Recall\n",
    "    ])\n",
    "\n",
    "# Print results in a tabular format\n",
    "print(tabulate(table_data, headers=['Model', 'Accuracy', 'Precision', 'Recall'], tablefmt='fancy_grid'))"
   ]
  },
  {
   "cell_type": "code",
   "execution_count": null,
   "metadata": {},
   "outputs": [
    {
     "data": {
      "image/png": "[encoded data removed]",
      "text/plain": [
       "<Figure size 1200x600 with 1 Axes>"
      ]
     },
     "metadata": {},
     "output_type": "display_data"
    }
   ],
   "source": [
    "# List of models to train\n",
    "models = {\n",
    "    'Logistic Regression': LogisticRegression(),\n",
    "    'Support Vector Machine': SVC(),\n",
    "    'K-Nearest Neighbors': KNeighborsClassifier(n_neighbors=5),\n",
    "    'Naive Bayes': GaussianNB(),\n",
    "    'Decision Tree': DecisionTreeClassifier(criterion='entropy', random_state=7)\n",
    "}\n",
    "\n",
    "# Collect results\n",
    "results = {}\n",
    "for name, model in models.items():\n",
    "    model.fit(X_train, Y_train)\n",
    "    Y_pred = model.predict(X_test)\n",
    "    results[name] = {\n",
    "        'Accuracy': accuracy_score(Y_test, Y_pred),\n",
    "        'Precision': precision_score(Y_test, Y_pred),\n",
    "        'Recall': recall_score(Y_test, Y_pred)\n",
    "    }\n",
    "\n",
    "# Convert results to DataFrame\n",
    "results_df = pd.DataFrame(results).T\n",
    "results_df.reset_index(inplace=True)\n",
    "results_df.rename(columns={'index': 'Algorithm'}, inplace=True)\n",
    "\n",
    "# Melt the DataFrame for easier plotting\n",
    "results_melted = results_df.melt(id_vars='Algorithm', var_name='Metric', value_name='Score')\n",
    "\n",
    "# Plotting\n",
    "plt.figure(figsize=(12, 6))\n",
    "sns.barplot(data=results_melted, x='Algorithm', y='Score', hue='Metric', palette='Set1')\n",
    "plt.title('Comparison of Accuracy, Precision, and Recall for Different Algorithms')\n",
    "plt.ylim(0, 1)  # Set y-limit to reflect that Precision and Recall are in the range [0, 1]\n",
    "plt.ylabel('Score')\n",
    "plt.xticks(rotation=45)\n",
    "plt.legend(loc='upper right')\n",
    "plt.show()"
   ]
  },
  {
   "cell_type": "code",
   "execution_count": null,
   "metadata": {},
   "outputs": [
    {
     "name": "stdout",
     "output_type": "stream",
     "text": [
      "Naive Bayes model saved in:\n",
      "'models/NaiveBayes_model.pkl'\n"
     ]
    }
   ],
   "source": [
    "# Save the trained Naive Bayes model\n",
    "save_model_path = 'models/NaiveBayes_model.pkl'\n",
    "save_model = True  # Set to True if you want to save the model\n",
    "\n",
    "if save_model:\n",
    "    # Extract directory path\n",
    "    directory = os.path.dirname(save_model_path)\n",
    "    \n",
    "    # Ensure the directory exists\n",
    "    os.makedirs(directory, exist_ok=True)\n",
    "    \n",
    "    with open(save_model_path, 'wb') as out_file:\n",
    "        pickle.dump(nb_model, out_file)\n",
    "    print(f\"Naive Bayes model saved in:\\n'{save_model_path}'\")\n",
    "else:\n",
    "    print('According to the configuration, the model is NOT saved')"
   ]
  }
 ],
 "metadata": {
  "kernelspec": {
   "display_name": "Python 3",
   "language": "python",
   "name": "python3"
  },
  "language_info": {
   "codemirror_mode": {
    "name": "ipython",
    "version": 3
   },
   "file_extension": ".py",
   "mimetype": "text/x-python",
   "name": "python",
   "nbconvert_exporter": "python",
   "pygments_lexer": "ipython3",
   "version": "3.11.4"
  }
 },
 "nbformat": 4,
 "nbformat_minor": 2
}
